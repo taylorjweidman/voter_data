{
 "cells": [
  {
   "cell_type": "markdown",
   "metadata": {
    "tags": []
   },
   "source": [
    "# Data 3 | Neighborhoods\n",
    "\n",
    "I take the geocoded variables in data2, (lat,lon), and merge them with data1 using idu. \n",
    "\n",
    "Then I create a grid of square neighborhoods, assign voters to them based on their geography, generate neighborhood statistic, and assign these neighborhood statistics to the voters in the neighborhood.\n",
    "\n",
    "To standardize across years and speed up KNN, I generate dictionaries:\n",
    "- W | A list of latitudes (Widthds) in regular intervals across the geocoded space\n",
    "- H | A list of longitudes (Heights) in regular intervals across the geocoded space\n",
    "- Ad | Takes a neighborhood's index and returns a list of indecies for the adjacent neighborhoods \n",
    "- WHd | Takes a neighborhoods' index and returns the neighborhood's (W,H) values\n",
    "- SNd | Takes a neighborhood's index and returns a dataframe containing the included voters\n",
    "- POPd | Take a neighborhood's index and return its population\n",
    "- Cd | Take a neighborhood's index and return its centroid (lat,lon)"
   ]
  },
  {
   "cell_type": "markdown",
   "metadata": {},
   "source": [
    "## Low Key To Do\n",
    "1. Maybe do everything with the export date instead of year?\n",
    "2. Use idu as the index?"
   ]
  },
  {
   "cell_type": "code",
   "execution_count": 4,
   "metadata": {},
   "outputs": [
    {
     "name": "stdout",
     "output_type": "stream",
     "text": [
      "NC @ 2000m\n",
      "  Step 0 | Load Grid\n",
      "2010\n",
      "  Done\n",
      "2011\n",
      "  Done\n",
      "2012\n",
      "  Done\n",
      "2013\n",
      "  Done\n",
      "2015\n",
      "  Done\n",
      "2016\n",
      "  Done\n",
      "2017\n",
      "  Done\n",
      "2018\n",
      "  Done\n",
      "2019\n",
      "  Done\n",
      "2020\n",
      "  Step 1 | Open and Clean (Runtime: 1 mins)\n",
      "  Step 2 | Populating Squares (Runtime: 1 mins; Squares: 4481)\n",
      "  Step 3 | Save (Total Runtime: 1 mins)\n",
      "2021\n",
      "  Step 1 | Open and Clean (Runtime: 1 mins)\n",
      "  Step 2 | Populating Squares (Runtime: 1 mins; Squares: 4460)\n",
      "  Step 3 | Save (Total Runtime: 1 mins)\n"
     ]
    }
   ],
   "source": [
    "from data3_neighborhoods import *\n",
    "\n",
    "data_name = f'{state} @ {meters} m'\n",
    "print_log[data_name] = {'log':[]}\n",
    "\n",
    "\"\"\" Step 0 | Setup \"\"\"\n",
    "LLd, Ad, Cd = setup_dictionaries(meters, state, data_name)\n",
    "\n",
    "run_years = [x.strip('_geo.pkl') for x in os.listdir(path_2) if '_geo.pkl' in x]\n",
    "for year in sorted(run_years):\n",
    "    T0 = time.time()\n",
    "    file_name = f'{state}_{year}'\n",
    "    print_log[year] = {'log':[],'sublog':[]}\n",
    "    printer(print_log)\n",
    "    \n",
    "    SNd_file_name = f'SNd_{file_name}m.pkl'\n",
    "\n",
    "    if SNd_file_name in os.listdir(path_3):\n",
    "        print_log[year]['log'].append('  Done')\n",
    "        printer(print_log)\n",
    "        \n",
    "    if SNd_file_name not in os.listdir(path_3):\n",
    "        \"\"\" Step 1 | Open and Clean \"\"\"\n",
    "        t0 = time.time()\n",
    "        print_log[year]['log'].append('  Step 1 | Open and Clean')\n",
    "        printer(print_log)\n",
    "        \n",
    "        path_2_geo = f'{path_2}{file_name}_geo.pkl'\n",
    "        geo_data = pd.read_pickle(path_2_geo)\n",
    "        #geo_data = geo_data[geo_data.matchtype == 'Exact']\n",
    "        geo_data = geo_data[['idu', 'lat', 'lon']]\n",
    "        \n",
    "        chunk_file_names, chunk_files = [x for x in os.listdir(path_1) if year in x], []\n",
    "        for chunk_file_name in chunk_file_names:\n",
    "            with open(path_1 + chunk_file_name,'rb') as f: \n",
    "                chunk = pickle.load(f)\n",
    "                keep_cols = ['idu', 'age', 'gender', 'race', 'D', 'R', 'O']\n",
    "                chunk = chunk[keep_cols]\n",
    "            chunk_files.append(chunk)\n",
    "        data = pd.concat(chunk_files, ignore_index=True)\n",
    "        data = data.merge(geo_data, how='left', on='idu')\n",
    "        \n",
    "        runtime = round(( time.time() - t0 ) / 60 )\n",
    "        print_log[year]['log'][-1] = f'  Step 1 | Open and Clean (Runtime: {runtime} mins)'\n",
    "        printer(print_log)\n",
    "        \n",
    "        \"\"\" Step 2 | Populate Squares \"\"\"\n",
    "        t0 = time.time()\n",
    "        print_log[year]['log'].append('  Step 2 | Populating Squares') \n",
    "        SNd, POPd = populate_squares(data, LLd, print_log, year, meters)\n",
    "        runtime = round(( time.time() - t0 ) / 60 )\n",
    "        print_log[year]['log'][-1] = f'  Step 2 | Populating Squares (Runtime: {runtime} mins; Squares: {len(SNd)})'\n",
    "        printer(print_log)\n",
    "        \n",
    "        \"\"\" Step 3 | Save \"\"\"\n",
    "        print_log[year]['log'].append('  Step 3 | Save')\n",
    "        with open(f'{path_3}SNd_{file_name}m.pkl','wb') as f: \n",
    "            pickle.dump(SNd, f)\n",
    "        with open(f'{path_3}POPd_{file_name}m.pkl','wb') as f: \n",
    "            pickle.dump(POPd, f)\n",
    "        runtime = round(( time.time() - t0 ) / 60 )\n",
    "        print_log[year]['log'][-1] = f'  Step 3 | Save (Total Runtime: {runtime} mins)'\n",
    "        printer(print_log)\n",
    "        \n",
    "        \"\"\" Saving print_log \"\"\"\n",
    "        now = datetime.now()\n",
    "        savedate = ''.join([str(now.year),str(now.strftime('%m')),str(now.strftime('%d'))])#,str(now.strftime('%H'))])\n",
    "        file = open(f'{path_3}{print_log}_{savedate}.txt', 'w')\n",
    "        file.write(string_printer(print_log))\n",
    "        file.close()"
   ]
  },
  {
   "cell_type": "markdown",
   "metadata": {
    "tags": []
   },
   "source": [
    "## Analysis\n",
    "\n",
    "1. I plot the map of square neighborhoods by:\n",
    "    1. Party composition\n",
    "    2. Population\n",
    "    3. Non-two-party composition\n",
    "2. I then generate histograms and other descriptive plots of the neighborhoods."
   ]
  }
 ],
 "metadata": {
  "kernelspec": {
   "display_name": "Python 3",
   "language": "python",
   "name": "python3"
  },
  "language_info": {
   "codemirror_mode": {
    "name": "ipython",
    "version": 3
   },
   "file_extension": ".py",
   "mimetype": "text/x-python",
   "name": "python",
   "nbconvert_exporter": "python",
   "pygments_lexer": "ipython3",
   "version": "3.8.8"
  }
 },
 "nbformat": 4,
 "nbformat_minor": 4
}
