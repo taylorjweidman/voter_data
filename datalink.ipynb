{
 "cells": [
  {
   "cell_type": "markdown",
   "metadata": {},
   "source": [
    "# Data -1 | Link"
   ]
  },
  {
   "cell_type": "markdown",
   "metadata": {},
   "source": [
    "## Low Key To Do\n",
    "1. Maybe do everything with the export date instead of year?\n",
    "2. Use idu as the index?"
   ]
  },
  {
   "cell_type": "markdown",
   "metadata": {
    "tags": []
   },
   "source": [
    "## Link KNN with Turnout\n",
    "\n",
    "A list of elections in North Carolina https://en.wikipedia.org/wiki/Elections_in_North_Carolina."
   ]
  },
  {
   "cell_type": "code",
   "execution_count": 3,
   "metadata": {},
   "outputs": [
    {
     "data": {
      "text/plain": [
       "False"
      ]
     },
     "execution_count": 3,
     "metadata": {},
     "output_type": "execute_result"
    }
   ],
   "source": [
    "last_knn_chunk_save_name = 'knn_' + chunk_name.replace('chunk',f'{election_type}_chunk')\n",
    "last_knn_chunk_save_name not in os.listdir(path_link + 'chunks')"
   ]
  },
  {
   "cell_type": "code",
   "execution_count": 34,
   "metadata": {
    "collapsed": true,
    "jupyter": {
     "outputs_hidden": true
    },
    "tags": []
   },
   "outputs": [
    {
     "name": "stdout",
     "output_type": "stream",
     "text": [
      "2010  ||  GENERAL, PRIMARY, MUNICIPAL\n",
      "    chunk_0  ||  34549 voters\n",
      "    chunk_1  ||  32335 voters\n",
      "    chunk_10  ||  6093 voters\n",
      "    chunk_2  ||  29981 voters\n",
      "    chunk_3  ||  34618 voters\n",
      "    chunk_4  ||  34727 voters\n",
      "    chunk_5  ||  37220 voters\n",
      "    chunk_6  ||  40066 voters\n",
      "    chunk_7  ||  35491 voters\n",
      "    chunk_8  ||  36320 voters\n",
      "    chunk_9  ||  29278 voters\n",
      "2012  ||  GENERAL, PRIMARY, MUNICIPAL\n",
      "    chunk_0  ||  28231 voters\n",
      "    chunk_1  ||  26517 voters\n",
      "    chunk_10  ||  28179 voters\n",
      "    chunk_11  ||  7618 voters\n",
      "    chunk_2  ||  26310 voters\n",
      "    chunk_3  ||  24190 voters\n",
      "    chunk_4  ||  25158 voters\n",
      "    chunk_5  ||  24276 voters\n",
      "    chunk_6  ||  45681 voters\n",
      "    chunk_7  ||  28114 voters\n",
      "    chunk_8  ||  25210 voters\n",
      "    chunk_9  ||  26913 voters\n",
      "2013  ||  GENERAL, PRIMARY, MUNICIPAL\n",
      "    chunk_0  ||  35352 voters\n",
      "    chunk_1  ||  38455 voters\n",
      "    chunk_10  ||  56303 voters\n",
      "    chunk_11  ||  26726 voters\n",
      "    chunk_2  ||  46799 voters\n",
      "    chunk_3  ||  39584 voters\n",
      "    chunk_4  ||  44572 voters\n",
      "    chunk_5  ||  49220 voters\n",
      "    chunk_6  ||  46647 voters\n",
      "    chunk_7  ||  46246 voters\n",
      "    chunk_8  ||  41332 voters\n",
      "    chunk_9  ||  46272 voters\n",
      "2015  ||  GENERAL, PRIMARY, MUNICIPAL\n",
      "    chunk_0  ||  44969 voters\n",
      "    chunk_1  ||  42206 voters\n",
      "    chunk_10  ||  44250 voters\n",
      "    chunk_11  ||  44782 voters\n",
      "    chunk_12  ||  12760 voters\n",
      "    chunk_2  ||  38644 voters\n",
      "    chunk_3  ||  39050 voters\n",
      "    chunk_4  ||  42668 voters\n",
      "    chunk_5  ||  43667 voters\n",
      "    chunk_6  ||  44969 voters\n",
      "    chunk_7  ||  44236 voters\n",
      "    chunk_8  ||  43426 voters\n",
      "    chunk_9  ||  42994 voters\n",
      "2016  ||  GENERAL, PRIMARY, MUNICIPAL\n",
      "    chunk_0  ||  38648 voters\n",
      "    chunk_1  ||  36638 voters\n",
      "    chunk_10  ||  35642 voters\n",
      "    chunk_11  ||  37932 voters\n",
      "    chunk_12  ||  40952 voters\n",
      "    chunk_13  ||  7942 voters\n",
      "    chunk_2  ||  36796 voters\n",
      "    chunk_3  ||  31876 voters\n",
      "    chunk_4  ||  36257 voters\n",
      "    chunk_5  ||  39696 voters\n",
      "    chunk_6  ||  39425 voters\n",
      "    chunk_7  ||  43620 voters\n",
      "    chunk_8  ||  40342 voters\n",
      "    chunk_9  ||  53459 voters\n",
      "2017  ||  GENERAL, PRIMARY, MUNICIPAL\n",
      "    chunk_0  ||  44190 voters\n",
      "    chunk_1  ||  38270 voters\n",
      "    chunk_10  ||  42827 voters\n",
      "    chunk_11  ||  45338 voters\n",
      "    chunk_12  ||  46895 voters\n",
      "    chunk_13  ||  22649 voters\n",
      "    chunk_2  ||  43006 voters\n",
      "    chunk_3  ||  33779 voters\n",
      "    chunk_4  ||  43380 voters\n",
      "    chunk_5  ||  39587 voters\n",
      "    chunk_6  ||  49401 voters\n",
      "    chunk_7  ||  51081 voters\n",
      "    chunk_8  ||  43735 voters\n",
      "    chunk_9  ||  42151 voters\n",
      "2018  ||  GENERAL, PRIMARY, MUNICIPAL\n",
      "    chunk_0  ||  32976 voters\n",
      "    chunk_1  ||  39248 voters\n",
      "    chunk_10  ||  30132 voters\n",
      "    chunk_11  ||  27970 voters\n",
      "    chunk_12  ||  33607 voters\n",
      "    chunk_13  ||  30673 voters\n",
      "    chunk_14  ||  4980 voters\n",
      "    chunk_2  ||  32535 voters\n",
      "    chunk_3  ||  28118 voters\n",
      "    chunk_4  ||  32767 voters\n",
      "    chunk_5  ||  27934 voters\n",
      "    chunk_6  ||  30873 voters\n",
      "    chunk_7  ||  30440 voters\n",
      "    chunk_8  ||  32745 voters\n",
      "    chunk_9  ||  33096 voters\n",
      "2019  ||  GENERAL, PRIMARY, MUNICIPAL\n",
      "    chunk_0  ||  47155 voters\n",
      "    chunk_1  ||  31883 voters\n",
      "    chunk_10  ||  44874 voters\n",
      "    chunk_11  ||  47547 voters\n",
      "    chunk_12  ||  45063 voters\n",
      "    chunk_13  ||  43003 voters\n",
      "    chunk_14  ||  30050 voters\n",
      "    chunk_2  ||  44864 voters\n",
      "    chunk_3  ||  30695 voters\n",
      "    chunk_4  ||  35517 voters\n",
      "    chunk_5  ||  34532 voters\n",
      "    chunk_6  ||  49029 voters\n",
      "    chunk_7  ||  46104 voters\n",
      "    chunk_8  ||  52151 voters\n",
      "    chunk_9  ||  48880 voters\n",
      "2020  ||  GENERAL, PRIMARY, MUNICIPAL\n",
      "    chunk_0  ||  56432 voters\n",
      "    chunk_1  ||  43107 voters\n",
      "    chunk_10  ||  48267 voters\n",
      "    chunk_11  ||  42079 voters\n",
      "    chunk_12  ||  50267 voters\n",
      "    chunk_13  ||  43930 voters\n",
      "    chunk_14  ||  51856 voters\n",
      "    chunk_15  ||  30391 voters\n",
      "    chunk_2  ||  43406 voters\n",
      "    chunk_3  ||  40139 voters\n",
      "    chunk_4  ||  39814 voters\n",
      "    chunk_5  ||  43068 voters\n",
      "    chunk_6  ||  42868 voters\n",
      "    chunk_7  ||  43330 voters\n",
      "    chunk_8  ||  46189 voters\n",
      "    chunk_9  ||  50016 voters\n",
      "2021  ||  GENERAL, PRIMARY, MUNICIPAL\n",
      "    chunk_0  ||  46343 voters\n",
      "    chunk_1  ||  38535 voters\n",
      "    chunk_10  ||  45718 voters\n",
      "    chunk_11  ||  40376 voters\n",
      "    chunk_12  ||  39533 voters\n",
      "    chunk_13  ||  41797 voters\n",
      "    chunk_14  ||  57395 voters\n",
      "    chunk_15  ||  30969 voters\n",
      "    chunk_2  ||  44551 voters\n",
      "    chunk_3  ||  38536 voters\n",
      "    chunk_4  ||  43925 voters\n",
      "    chunk_5  ||  41037 voters\n",
      "    chunk_6  ||  37032 voters\n",
      "    chunk_7  ||  39140 voters\n",
      "    chunk_8  ||  38963 voters\n",
      "    chunk_9  ||  44932 voters\n"
     ]
    }
   ],
   "source": [
    "from datalink import *\n",
    "\n",
    "history = pd.read_pickle(path_0 + 'turnout_history_20190101.pkl')\n",
    "elections = history.election_desc.unique()\n",
    "\n",
    "# 'MUNCIPAL', 'MUNI'\n",
    "# 'EDUCATION'\n",
    "# 'ALCHOHOL', 'BEVERAGE'\n",
    "\n",
    "election_types = ['GENERAL', 'PRIMARY', 'MUNICIPAL',]# 'SCHOOL', 'REFERENDUM', 'MUNI AND SANI DISTRICT', 'ABC']\n",
    "election_types = {election_type: [e for e in elections if election_type in e] for election_type in election_types}\n",
    "\n",
    "years = set([x.split('_chunk_')[0] for x in os.listdir(path_1) if 'pkl' in x])\n",
    "for year in sorted(years):\n",
    "    print(year, ' || ', ', '.join(election_types))\n",
    "    \n",
    "    last_election_type = [e for e in election_types][-1]\n",
    "    chunk_files = [x for x in os.listdir(path_1) if year in x]\n",
    "    chunks = [x.strip(year) for x in chunk_files]\n",
    "    max_chunk = max([x for x in np.arange(0,30) if str(x) in '_'.join(chunks)])\n",
    "    \n",
    "    last_knn_chunk_save_name = f'knn_{year}_{last_election_type}_chunk_{max_chunk}.pkl'\n",
    "    if last_knn_chunk_save_name not in os.listdir(path_link + 'chunks'):\n",
    "        for chunk_name in sorted(chunk_files):\n",
    "            chunk_number = chunk_name.strip(f'{year}_').strip('.pkl')\n",
    "            \n",
    "            knn_chunk_name = 'knn_'+chunk_name.replace('chunk', f'{k_max}k_chunk')\n",
    "            knn_chunk = pd.read_pickle(path_4 + 'chunks/' + knn_chunk_name)\n",
    "            \n",
    "            print('   ', chunk_number, ' || ', len(knn_chunk), 'voters')\n",
    "            \n",
    "            for election_type in election_types:\n",
    "                knn_chunk_save_name = 'knn_' + chunk_name.replace('chunk',f'{election_type}_chunk')\n",
    "                \n",
    "                if knn_chunk_save_name not in os.listdir(path_link + 'chunks'):\n",
    "                #if True:\n",
    "                    party_cols = [c for c in knn_chunk.columns.values if ('D' == c[0]) | ('R' == c[0])]\n",
    "                    #election_cols, keep_election_cols = ['voted_' + e for e in election_types[election_type] if (year in e) or (str(int(year) - 1) in e)], []\n",
    "\n",
    "                    keep_election_cols = []\n",
    "                    election_cols = [c for c in knn_chunk.columns.values if 'voted_' in c]\n",
    "                    election_cols = [c for c in election_cols if (year in c) or (str(int(year) - 1) in c)]\n",
    "                    \n",
    "                    for col in knn_chunk.columns.values:\n",
    "                        if col in election_cols:\n",
    "                            if sum(knn_chunk[col]) > 0:\n",
    "                                keep_election_cols.append(col)\n",
    "                            \n",
    "                    knn_chunk = knn_chunk[['idu'] + party_cols + keep_election_cols]\n",
    "                    knn_chunk.to_pickle(path_link + f'chunks/{knn_chunk_save_name}')\n",
    "                    \n",
    "    else:\n",
    "        print('  Done')"
   ]
  },
  {
   "cell_type": "markdown",
   "metadata": {
    "jp-MarkdownHeadingCollapsed": true,
    "tags": []
   },
   "source": [
    "## Testing"
   ]
  },
  {
   "cell_type": "code",
   "execution_count": 33,
   "metadata": {},
   "outputs": [
    {
     "name": "stdout",
     "output_type": "stream",
     "text": [
      "knn_2010_MUNICIPAL_chunk_3.pkl\n"
     ]
    },
    {
     "data": {
      "text/plain": [
       "['voted_11/03/2009 MUNICIPAL GENERAL',\n",
       " 'voted_11/03/2009 MUNICIPAL',\n",
       " 'voted_10/06/2009 MUNICIPAL PRIMARY',\n",
       " 'voted_11/03/2009 MUNICIPAL ROB/LS']"
      ]
     },
     "execution_count": 33,
     "metadata": {},
     "output_type": "execute_result"
    }
   ],
   "source": [
    "print(knn_chunk_save_name)\n",
    "election_cols, keep_election_cols = ['voted_' + e for e in election_types[election_type] if (year in e) or (str(int(year) - 1) in e)], []\n",
    "\n",
    "for col in knn_chunk.columns.values:\n",
    "    if col in election_cols:\n",
    "        if sum(knn_chunk[col]) > 0:\n",
    "            keep_election_cols.append(col)\n",
    "keep_election_cols"
   ]
  },
  {
   "cell_type": "code",
   "execution_count": 25,
   "metadata": {},
   "outputs": [],
   "source": [
    "knn_chunk_name = 'knn_2010_2050k_chunk_0.pkl'\n",
    "knn_chunk = pd.read_pickle(path_4 + 'chunks/' + knn_chunk_name)"
   ]
  },
  {
   "cell_type": "code",
   "execution_count": 29,
   "metadata": {
    "tags": []
   },
   "outputs": [
    {
     "name": "stdout",
     "output_type": "stream",
     "text": [
      "13223 voted_11/02/2010 GENERAL\n",
      "73 voted_10/06/2009 BURLINGTON PRIMARY\n",
      "3859 voted_05/04/2010 PRIMARY\n",
      "1295 voted_11/03/2009 MUNICIPAL GENERAL\n",
      "901 voted_06/22/2010 SECOND PRIMARY\n",
      "685 voted_11/03/2009 MUNICIPAL\n",
      "432 voted_10/06/2009 MUNICIPAL PRIMARY\n",
      "269 voted_11/03/2009 MUNICIPAL ELECTION\n",
      "773 voted_11/03/2009 MUNICIPAL AND BOARD OF EDUCATION\n",
      "158 voted_11/03/2009 GENERAL MUNICIPAL ELECTION\n",
      "68 voted_04/06/2010 MUNICIPAL ALCOHOL REFERENDUM\n",
      "59 voted_10/06/2009 MORGANTON CITY\n"
     ]
    }
   ],
   "source": [
    "#chunk = pd.read_pickle(path_1 + '2016_chunk_1.pkl')\n",
    "chunk = knn_chunk\n",
    "el_cols = [c for c in chunk.columns.values if 'voted_' in c]\n",
    "el_cols = [c for c in el_cols if (year in c) or (str(int(year) - 1) in c)]\n",
    "\n",
    "for col in el_cols:\n",
    "    if sum(chunk[col]) > 0:\n",
    "        print(sum(chunk[col]),col)"
   ]
  },
  {
   "cell_type": "markdown",
   "metadata": {
    "tags": []
   },
   "source": [
    "## ACS and Squares\n",
    "\n",
    "Add ACS interpolated data to knn samples\n"
   ]
  },
  {
   "cell_type": "code",
   "execution_count": null,
   "metadata": {},
   "outputs": [],
   "source": [
    "state = 'NC'\n",
    "linkpath = '../voters/data5_link/'+state+'/'\n",
    "\n",
    "with open('../voters/data4_knn/'+state+'/key_id_subsamples.pkl','rb') as f: key_id_subsamples = pickle.load(f)\n",
    "keys = [key for key in key_id_subsamples]\n",
    "datadict = {}\n",
    "link_ids = []\n",
    "for key in keys:\n",
    "    if key+'_plus.csv' in os.listdir(linkpath):\n",
    "        datadict[key] = pd.read_csv(linkpath+key+'_plus.csv', low_memory=False)\n",
    "    else:\n",
    "        datadict[key] = pd.read_csv(linkpath+key+'.csv', low_memory=False)\n",
    "    link_ids = link_ids + list(datadict[key].DOUBLE_ID.unique())\n",
    "link_ids = list(set(link_ids)) # List of subsample DOUBLE_IDS\n",
    "\n",
    "meterlist = [500]#,2000]\n",
    "for meters in meterlist:\n",
    "    datalist = []\n",
    "    for year in nc_yearlist:\n",
    "        with open('../voters/data3_neighborhoods/'+state+'/SNd_'+str(year)+'_'+str(meters)+'m.pkl','rb') as f: SNd = pickle.load(f)\n",
    "        finished = []\n",
    "        for ni in SNd:\n",
    "            n = SNd[ni]\n",
    "            n['YEAR'] = year\n",
    "            n['M_'+str(meters)+'m'] = sum((n.GENDER == 'M')*1)\n",
    "            n['F_'+str(meters)+'m'] = sum((n.GENDER == 'F')*1)\n",
    "            n['BLACK_'+str(meters)+'m'] = sum((n.RACE == 'BLACK or AFRICAN AMERICAN')*1)\n",
    "            n['WHITE_'+str(meters)+'m'] = sum((n.RACE == 'WHITE')*1)\n",
    "            n['OTHER_'+str(meters)+'m'] = sum((~n.RACE.isin(['BLACK or AFRICAN AMERICAN','WHITE']))*1)\n",
    "            n['D_'+str(meters)+'m'] = n.D.sum()\n",
    "            n['R_'+str(meters)+'m'] = n.R.sum()\n",
    "            n['O_'+str(meters)+'m'] = n.O.sum()\n",
    "            n['MEAN_AGE_'+str(meters)+'m'] = n.AGE.astype(float).mean()\n",
    "            print(year,round(len(finished)/len(SNd)*100,2),'%')\n",
    "            clear_output(wait=True)\n",
    "            finished.append(ni)\n",
    "        SNfinal = [SNd[i] for i in SNd]\n",
    "        SNfinal = pd.concat(SNfinal,ignore_index=True, sort=False)\n",
    "        SNfinal['DOUBLE_ID'] = SNfinal['ID_NUM'] + SNfinal['ID_NUM_a']\n",
    "        SNfinal = SNfinal[SNfinal.DOUBLE_ID.isin(link_ids)]\n",
    "        datalist.append(SNfinal)\n",
    "\n",
    "    linkdata = pd.concat(datalist)\n",
    "    linkdata = linkdata.sort_values(by=['DOUBLE_ID','YEAR'])\n",
    "    \n",
    "    keys = ['move','switch','stay','move_switch']\n",
    "    for key in keys:\n",
    "        key_linkdata = linkdata[linkdata.DOUBLE_ID.isin(datadict[key].DOUBLE_ID.unique())]\n",
    "        key_linkdata['DOUBLE_ID_YEAR'] = key_linkdata['DOUBLE_ID'] + '_' + key_linkdata['YEAR'].astype(str)\n",
    "        key_linkdata_droplist = ['ID_NUM','CITY','STATE','ZIP_CODE','ID_NUM_a','GENDER','AGE','RACE','sn_i','lat','lon','YEAR','D','R','O']\n",
    "        key_linkdata_keeplist = [col for col in key_linkdata.columns.values if col not in key_linkdata_droplist]\n",
    "        key_linkdata = key_linkdata[key_linkdata_keeplist]\n",
    "\n",
    "        datadict[key]['DOUBLE_ID_YEAR'] = datadict[key]['DOUBLE_ID'] + '_' + datadict[key]['YEAR'].astype(str)\n",
    "\n",
    "        merge = datadict[key].merge(key_linkdata, left_on='DOUBLE_ID_YEAR', right_on='DOUBLE_ID_YEAR', how='outer')\n",
    "        rename_dict = {x:x.replace('_x','') for x in squares_keep_cols if '_x' in x}\n",
    "        merge = merge.rename(columns=rename_dict)\n",
    "\n",
    "        merge.to_csv('data5_link/NC/'+key+'_plus.csv')"
   ]
  }
 ],
 "metadata": {
  "kernelspec": {
   "display_name": "Python 3 (ipykernel)",
   "language": "python",
   "name": "python3"
  },
  "language_info": {
   "codemirror_mode": {
    "name": "ipython",
    "version": 3
   },
   "file_extension": ".py",
   "mimetype": "text/x-python",
   "name": "python",
   "nbconvert_exporter": "python",
   "pygments_lexer": "ipython3",
   "version": "3.8.8"
  }
 },
 "nbformat": 4,
 "nbformat_minor": 4
}
