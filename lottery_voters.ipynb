{
 "cells": [
  {
   "cell_type": "markdown",
   "metadata": {},
   "source": [
    "# Lottery Voters"
   ]
  },
  {
   "cell_type": "code",
   "execution_count": 1,
   "metadata": {},
   "outputs": [],
   "source": [
    "from base_imports import *"
   ]
  },
  {
   "cell_type": "markdown",
   "metadata": {},
   "source": [
    "## Mapping"
   ]
  },
  {
   "cell_type": "code",
   "execution_count": 4,
   "metadata": {},
   "outputs": [],
   "source": [
    "state = gpd.read_file('data0_raw/shapefiles/census_counties_2017/cb_2017_us_county_500k.shp')\n",
    "nc = state[state['STATEFP'] == '37']"
   ]
  },
  {
   "cell_type": "code",
   "execution_count": 25,
   "metadata": {},
   "outputs": [],
   "source": [
    "test = nc.dissolve(by='STATEFP')"
   ]
  },
  {
   "cell_type": "code",
   "execution_count": 26,
   "metadata": {},
   "outputs": [
    {
     "data": {
      "text/plain": [
       "<matplotlib.axes._subplots.AxesSubplot at 0x11e869690>"
      ]
     },
     "execution_count": 26,
     "metadata": {},
     "output_type": "execute_result"
    },
    {
     "data": {
      "image/png": "[encoded data removed]",
      "text/plain": [
       "<Figure size 432x288 with 1 Axes>"
      ]
     },
     "metadata": {
      "needs_background": "light"
     },
     "output_type": "display_data"
    }
   ],
   "source": [
    "test.plot()"
   ]
  },
  {
   "cell_type": "code",
   "execution_count": 21,
   "metadata": {},
   "outputs": [],
   "source": [
    "statezip = gpd.read_file('shapefiles0/tl_2019_us_zcta510.dbf')"
   ]
  },
  {
   "cell_type": "code",
   "execution_count": 52,
   "metadata": {},
   "outputs": [],
   "source": [
    "nczip = statezip[statezip.ZCTA5CE10.isin(zipcodes)]"
   ]
  },
  {
   "cell_type": "code",
   "execution_count": 53,
   "metadata": {},
   "outputs": [
    {
     "data": {
      "text/html": [
       "<div>\n",
       "<style scoped>\n",
       "    .dataframe tbody tr th:only-of-type {\n",
       "        vertical-align: middle;\n",
       "    }\n",
       "\n",
       "    .dataframe tbody tr th {\n",
       "        vertical-align: top;\n",
       "    }\n",
       "\n",
       "    .dataframe thead th {\n",
       "        text-align: right;\n",
       "    }\n",
       "</style>\n",
       "<table border=\"1\" class=\"dataframe\">\n",
       "  <thead>\n",
       "    <tr style=\"text-align: right;\">\n",
       "      <th></th>\n",
       "      <th>ZCTA5CE10</th>\n",
       "      <th>GEOID10</th>\n",
       "      <th>CLASSFP10</th>\n",
       "      <th>MTFCC10</th>\n",
       "      <th>FUNCSTAT10</th>\n",
       "      <th>ALAND10</th>\n",
       "      <th>AWATER10</th>\n",
       "      <th>INTPTLAT10</th>\n",
       "      <th>INTPTLON10</th>\n",
       "      <th>geometry</th>\n",
       "    </tr>\n",
       "  </thead>\n",
       "  <tbody>\n",
       "    <tr>\n",
       "      <td>221</td>\n",
       "      <td>27030</td>\n",
       "      <td>27030</td>\n",
       "      <td>B5</td>\n",
       "      <td>G6350</td>\n",
       "      <td>S</td>\n",
       "      <td>441866998</td>\n",
       "      <td>2813713</td>\n",
       "      <td>+36.4898143</td>\n",
       "      <td>-080.6292139</td>\n",
       "      <td>POLYGON ((-80.849654 36.479169, -80.847807 36....</td>\n",
       "    </tr>\n",
       "    <tr>\n",
       "      <td>222</td>\n",
       "      <td>27040</td>\n",
       "      <td>27040</td>\n",
       "      <td>B5</td>\n",
       "      <td>G6350</td>\n",
       "      <td>S</td>\n",
       "      <td>69136406</td>\n",
       "      <td>846193</td>\n",
       "      <td>+36.1693118</td>\n",
       "      <td>-080.3930448</td>\n",
       "      <td>POLYGON ((-80.443755 36.181772, -80.443744 36....</td>\n",
       "    </tr>\n",
       "    <tr>\n",
       "      <td>223</td>\n",
       "      <td>27041</td>\n",
       "      <td>27041</td>\n",
       "      <td>B5</td>\n",
       "      <td>G6350</td>\n",
       "      <td>S</td>\n",
       "      <td>152796802</td>\n",
       "      <td>942300</td>\n",
       "      <td>+36.4252534</td>\n",
       "      <td>-080.4871973</td>\n",
       "      <td>POLYGON ((-80.57252799999999 36.430108, -80.57...</td>\n",
       "    </tr>\n",
       "    <tr>\n",
       "      <td>225</td>\n",
       "      <td>27043</td>\n",
       "      <td>27043</td>\n",
       "      <td>B5</td>\n",
       "      <td>G6350</td>\n",
       "      <td>S</td>\n",
       "      <td>185554306</td>\n",
       "      <td>1778801</td>\n",
       "      <td>+36.3345944</td>\n",
       "      <td>-080.4517305</td>\n",
       "      <td>POLYGON ((-80.555555 36.344167, -80.5554679999...</td>\n",
       "    </tr>\n",
       "    <tr>\n",
       "      <td>226</td>\n",
       "      <td>27045</td>\n",
       "      <td>27045</td>\n",
       "      <td>B5</td>\n",
       "      <td>G6350</td>\n",
       "      <td>S</td>\n",
       "      <td>60009122</td>\n",
       "      <td>179108</td>\n",
       "      <td>+36.2343984</td>\n",
       "      <td>-080.2960701</td>\n",
       "      <td>POLYGON ((-80.35793 36.2263, -80.3578349999999...</td>\n",
       "    </tr>\n",
       "    <tr>\n",
       "      <td>...</td>\n",
       "      <td>...</td>\n",
       "      <td>...</td>\n",
       "      <td>...</td>\n",
       "      <td>...</td>\n",
       "      <td>...</td>\n",
       "      <td>...</td>\n",
       "      <td>...</td>\n",
       "      <td>...</td>\n",
       "      <td>...</td>\n",
       "      <td>...</td>\n",
       "    </tr>\n",
       "    <tr>\n",
       "      <td>30524</td>\n",
       "      <td>28560</td>\n",
       "      <td>28560</td>\n",
       "      <td>B5</td>\n",
       "      <td>G6350</td>\n",
       "      <td>S</td>\n",
       "      <td>304169698</td>\n",
       "      <td>65656481</td>\n",
       "      <td>+35.1266950</td>\n",
       "      <td>-076.9776282</td>\n",
       "      <td>POLYGON ((-77.15578599999999 35.149345, -77.15...</td>\n",
       "    </tr>\n",
       "    <tr>\n",
       "      <td>30525</td>\n",
       "      <td>28562</td>\n",
       "      <td>28562</td>\n",
       "      <td>B5</td>\n",
       "      <td>G6350</td>\n",
       "      <td>S</td>\n",
       "      <td>399456203</td>\n",
       "      <td>9526000</td>\n",
       "      <td>+35.0798806</td>\n",
       "      <td>-077.1258950</td>\n",
       "      <td>POLYGON ((-77.329218 35.149924, -77.3289779999...</td>\n",
       "    </tr>\n",
       "    <tr>\n",
       "      <td>30526</td>\n",
       "      <td>28570</td>\n",
       "      <td>28570</td>\n",
       "      <td>B5</td>\n",
       "      <td>G6350</td>\n",
       "      <td>S</td>\n",
       "      <td>322276535</td>\n",
       "      <td>23072628</td>\n",
       "      <td>+34.7814865</td>\n",
       "      <td>-076.8574973</td>\n",
       "      <td>POLYGON ((-77.05456099999999 34.711386, -77.05...</td>\n",
       "    </tr>\n",
       "    <tr>\n",
       "      <td>30527</td>\n",
       "      <td>28571</td>\n",
       "      <td>28571</td>\n",
       "      <td>B5</td>\n",
       "      <td>G6350</td>\n",
       "      <td>S</td>\n",
       "      <td>133741247</td>\n",
       "      <td>60750545</td>\n",
       "      <td>+35.0707729</td>\n",
       "      <td>-076.6892401</td>\n",
       "      <td>POLYGON ((-76.829562 35.050271, -76.828267 35....</td>\n",
       "    </tr>\n",
       "    <tr>\n",
       "      <td>30528</td>\n",
       "      <td>28572</td>\n",
       "      <td>28572</td>\n",
       "      <td>B5</td>\n",
       "      <td>G6350</td>\n",
       "      <td>S</td>\n",
       "      <td>274157213</td>\n",
       "      <td>1143502</td>\n",
       "      <td>+35.0278953</td>\n",
       "      <td>-077.7364173</td>\n",
       "      <td>POLYGON ((-77.86254 34.980096, -77.861113 34.9...</td>\n",
       "    </tr>\n",
       "  </tbody>\n",
       "</table>\n",
       "<p>679 rows × 10 columns</p>\n",
       "</div>"
      ],
      "text/plain": [
       "      ZCTA5CE10 GEOID10 CLASSFP10 MTFCC10 FUNCSTAT10    ALAND10  AWATER10  \\\n",
       "221       27030   27030        B5   G6350          S  441866998   2813713   \n",
       "222       27040   27040        B5   G6350          S   69136406    846193   \n",
       "223       27041   27041        B5   G6350          S  152796802    942300   \n",
       "225       27043   27043        B5   G6350          S  185554306   1778801   \n",
       "226       27045   27045        B5   G6350          S   60009122    179108   \n",
       "...         ...     ...       ...     ...        ...        ...       ...   \n",
       "30524     28560   28560        B5   G6350          S  304169698  65656481   \n",
       "30525     28562   28562        B5   G6350          S  399456203   9526000   \n",
       "30526     28570   28570        B5   G6350          S  322276535  23072628   \n",
       "30527     28571   28571        B5   G6350          S  133741247  60750545   \n",
       "30528     28572   28572        B5   G6350          S  274157213   1143502   \n",
       "\n",
       "        INTPTLAT10    INTPTLON10  \\\n",
       "221    +36.4898143  -080.6292139   \n",
       "222    +36.1693118  -080.3930448   \n",
       "223    +36.4252534  -080.4871973   \n",
       "225    +36.3345944  -080.4517305   \n",
       "226    +36.2343984  -080.2960701   \n",
       "...            ...           ...   \n",
       "30524  +35.1266950  -076.9776282   \n",
       "30525  +35.0798806  -077.1258950   \n",
       "30526  +34.7814865  -076.8574973   \n",
       "30527  +35.0707729  -076.6892401   \n",
       "30528  +35.0278953  -077.7364173   \n",
       "\n",
       "                                                geometry  \n",
       "221    POLYGON ((-80.849654 36.479169, -80.847807 36....  \n",
       "222    POLYGON ((-80.443755 36.181772, -80.443744 36....  \n",
       "223    POLYGON ((-80.57252799999999 36.430108, -80.57...  \n",
       "225    POLYGON ((-80.555555 36.344167, -80.5554679999...  \n",
       "226    POLYGON ((-80.35793 36.2263, -80.3578349999999...  \n",
       "...                                                  ...  \n",
       "30524  POLYGON ((-77.15578599999999 35.149345, -77.15...  \n",
       "30525  POLYGON ((-77.329218 35.149924, -77.3289779999...  \n",
       "30526  POLYGON ((-77.05456099999999 34.711386, -77.05...  \n",
       "30527  POLYGON ((-76.829562 35.050271, -76.828267 35....  \n",
       "30528  POLYGON ((-77.86254 34.980096, -77.861113 34.9...  \n",
       "\n",
       "[679 rows x 10 columns]"
      ]
     },
     "execution_count": 53,
     "metadata": {},
     "output_type": "execute_result"
    }
   ],
   "source": [
    "nczip"
   ]
  },
  {
   "cell_type": "code",
   "execution_count": 54,
   "metadata": {},
   "outputs": [
    {
     "data": {
      "text/plain": [
       "<matplotlib.axes._subplots.AxesSubplot at 0x15b988fd0>"
      ]
     },
     "execution_count": 54,
     "metadata": {},
     "output_type": "execute_result"
    },
    {
     "data": {
      "image/png": "[encoded data removed]",
      "text/plain": [
       "<Figure size 432x288 with 1 Axes>"
      ]
     },
     "metadata": {
      "needs_background": "light"
     },
     "output_type": "display_data"
    }
   ],
   "source": [
    "nczip.plot()"
   ]
  },
  {
   "cell_type": "code",
   "execution_count": 38,
   "metadata": {},
   "outputs": [],
   "source": [
    "sales = pd.read_excel('data0/lottery/Sales_by_Zipcode_FY2009 (July 2008- Jun 2009).xlsx')"
   ]
  },
  {
   "cell_type": "code",
   "execution_count": 55,
   "metadata": {},
   "outputs": [
    {
     "data": {
      "text/html": [
       "<div>\n",
       "<style scoped>\n",
       "    .dataframe tbody tr th:only-of-type {\n",
       "        vertical-align: middle;\n",
       "    }\n",
       "\n",
       "    .dataframe tbody tr th {\n",
       "        vertical-align: top;\n",
       "    }\n",
       "\n",
       "    .dataframe thead th {\n",
       "        text-align: right;\n",
       "    }\n",
       "</style>\n",
       "<table border=\"1\" class=\"dataframe\">\n",
       "  <thead>\n",
       "    <tr style=\"text-align: right;\">\n",
       "      <th></th>\n",
       "      <th>fiscal_year</th>\n",
       "      <th>year</th>\n",
       "      <th>month_name</th>\n",
       "      <th>Game_Type</th>\n",
       "      <th>Game_Name</th>\n",
       "      <th>Zip</th>\n",
       "      <th>NetSales_Amt</th>\n",
       "    </tr>\n",
       "  </thead>\n",
       "  <tbody>\n",
       "    <tr>\n",
       "      <td>0</td>\n",
       "      <td>2009</td>\n",
       "      <td>2008</td>\n",
       "      <td>AUGUST</td>\n",
       "      <td>Instant</td>\n",
       "      <td>$100 Million Cash Spectacular</td>\n",
       "      <td>27006</td>\n",
       "      <td>300.0</td>\n",
       "    </tr>\n",
       "    <tr>\n",
       "      <td>1</td>\n",
       "      <td>2009</td>\n",
       "      <td>2008</td>\n",
       "      <td>AUGUST</td>\n",
       "      <td>Instant</td>\n",
       "      <td>$100 Million Cash Spectacular</td>\n",
       "      <td>27009</td>\n",
       "      <td>0.0</td>\n",
       "    </tr>\n",
       "    <tr>\n",
       "      <td>2</td>\n",
       "      <td>2009</td>\n",
       "      <td>2008</td>\n",
       "      <td>AUGUST</td>\n",
       "      <td>Instant</td>\n",
       "      <td>$100 Million Cash Spectacular</td>\n",
       "      <td>27011</td>\n",
       "      <td>300.0</td>\n",
       "    </tr>\n",
       "    <tr>\n",
       "      <td>3</td>\n",
       "      <td>2009</td>\n",
       "      <td>2008</td>\n",
       "      <td>AUGUST</td>\n",
       "      <td>Instant</td>\n",
       "      <td>$100 Million Cash Spectacular</td>\n",
       "      <td>27012</td>\n",
       "      <td>300.0</td>\n",
       "    </tr>\n",
       "    <tr>\n",
       "      <td>4</td>\n",
       "      <td>2009</td>\n",
       "      <td>2008</td>\n",
       "      <td>AUGUST</td>\n",
       "      <td>Instant</td>\n",
       "      <td>$100 Million Cash Spectacular</td>\n",
       "      <td>27013</td>\n",
       "      <td>900.0</td>\n",
       "    </tr>\n",
       "  </tbody>\n",
       "</table>\n",
       "</div>"
      ],
      "text/plain": [
       "   fiscal_year  year month_name Game_Type                      Game_Name  \\\n",
       "0         2009  2008     AUGUST   Instant  $100 Million Cash Spectacular   \n",
       "1         2009  2008     AUGUST   Instant  $100 Million Cash Spectacular   \n",
       "2         2009  2008     AUGUST   Instant  $100 Million Cash Spectacular   \n",
       "3         2009  2008     AUGUST   Instant  $100 Million Cash Spectacular   \n",
       "4         2009  2008     AUGUST   Instant  $100 Million Cash Spectacular   \n",
       "\n",
       "     Zip  NetSales_Amt  \n",
       "0  27006         300.0  \n",
       "1  27009           0.0  \n",
       "2  27011         300.0  \n",
       "3  27012         300.0  \n",
       "4  27013         900.0  "
      ]
     },
     "execution_count": 55,
     "metadata": {},
     "output_type": "execute_result"
    }
   ],
   "source": [
    "sales.head()"
   ]
  },
  {
   "cell_type": "code",
   "execution_count": 58,
   "metadata": {},
   "outputs": [],
   "source": [
    "zipcodes = [str(x) for x in sales.Zip.unique()]\n",
    "games = list(sales.Game_Name.unique())"
   ]
  },
  {
   "cell_type": "code",
   "execution_count": 62,
   "metadata": {},
   "outputs": [],
   "source": [
    "gamesales = sales[(sales.Game_Name == 'Powerball') & (sales.month_name == 'AUGUST')]"
   ]
  },
  {
   "cell_type": "code",
   "execution_count": 63,
   "metadata": {},
   "outputs": [
    {
     "data": {
      "text/html": [
       "<div>\n",
       "<style scoped>\n",
       "    .dataframe tbody tr th:only-of-type {\n",
       "        vertical-align: middle;\n",
       "    }\n",
       "\n",
       "    .dataframe tbody tr th {\n",
       "        vertical-align: top;\n",
       "    }\n",
       "\n",
       "    .dataframe thead th {\n",
       "        text-align: right;\n",
       "    }\n",
       "</style>\n",
       "<table border=\"1\" class=\"dataframe\">\n",
       "  <thead>\n",
       "    <tr style=\"text-align: right;\">\n",
       "      <th></th>\n",
       "      <th>fiscal_year</th>\n",
       "      <th>year</th>\n",
       "      <th>month_name</th>\n",
       "      <th>Game_Type</th>\n",
       "      <th>Game_Name</th>\n",
       "      <th>Zip</th>\n",
       "      <th>NetSales_Amt</th>\n",
       "    </tr>\n",
       "  </thead>\n",
       "  <tbody>\n",
       "    <tr>\n",
       "      <td>36254</td>\n",
       "      <td>2009</td>\n",
       "      <td>2008</td>\n",
       "      <td>AUGUST</td>\n",
       "      <td>Draw Game</td>\n",
       "      <td>Powerball</td>\n",
       "      <td>27006</td>\n",
       "      <td>23767.0</td>\n",
       "    </tr>\n",
       "    <tr>\n",
       "      <td>36255</td>\n",
       "      <td>2009</td>\n",
       "      <td>2008</td>\n",
       "      <td>AUGUST</td>\n",
       "      <td>Draw Game</td>\n",
       "      <td>Powerball</td>\n",
       "      <td>27009</td>\n",
       "      <td>2138.0</td>\n",
       "    </tr>\n",
       "    <tr>\n",
       "      <td>36256</td>\n",
       "      <td>2009</td>\n",
       "      <td>2008</td>\n",
       "      <td>AUGUST</td>\n",
       "      <td>Draw Game</td>\n",
       "      <td>Powerball</td>\n",
       "      <td>27011</td>\n",
       "      <td>2140.0</td>\n",
       "    </tr>\n",
       "    <tr>\n",
       "      <td>36257</td>\n",
       "      <td>2009</td>\n",
       "      <td>2008</td>\n",
       "      <td>AUGUST</td>\n",
       "      <td>Draw Game</td>\n",
       "      <td>Powerball</td>\n",
       "      <td>27012</td>\n",
       "      <td>59910.0</td>\n",
       "    </tr>\n",
       "    <tr>\n",
       "      <td>36258</td>\n",
       "      <td>2009</td>\n",
       "      <td>2008</td>\n",
       "      <td>AUGUST</td>\n",
       "      <td>Draw Game</td>\n",
       "      <td>Powerball</td>\n",
       "      <td>27013</td>\n",
       "      <td>9522.0</td>\n",
       "    </tr>\n",
       "    <tr>\n",
       "      <td>...</td>\n",
       "      <td>...</td>\n",
       "      <td>...</td>\n",
       "      <td>...</td>\n",
       "      <td>...</td>\n",
       "      <td>...</td>\n",
       "      <td>...</td>\n",
       "      <td>...</td>\n",
       "    </tr>\n",
       "    <tr>\n",
       "      <td>36956</td>\n",
       "      <td>2009</td>\n",
       "      <td>2008</td>\n",
       "      <td>AUGUST</td>\n",
       "      <td>Draw Game</td>\n",
       "      <td>Powerball</td>\n",
       "      <td>28806</td>\n",
       "      <td>71850.0</td>\n",
       "    </tr>\n",
       "    <tr>\n",
       "      <td>36957</td>\n",
       "      <td>2009</td>\n",
       "      <td>2008</td>\n",
       "      <td>AUGUST</td>\n",
       "      <td>Draw Game</td>\n",
       "      <td>Powerball</td>\n",
       "      <td>28901</td>\n",
       "      <td>5491.0</td>\n",
       "    </tr>\n",
       "    <tr>\n",
       "      <td>36958</td>\n",
       "      <td>2009</td>\n",
       "      <td>2008</td>\n",
       "      <td>AUGUST</td>\n",
       "      <td>Draw Game</td>\n",
       "      <td>Powerball</td>\n",
       "      <td>28904</td>\n",
       "      <td>5752.0</td>\n",
       "    </tr>\n",
       "    <tr>\n",
       "      <td>36959</td>\n",
       "      <td>2009</td>\n",
       "      <td>2008</td>\n",
       "      <td>AUGUST</td>\n",
       "      <td>Draw Game</td>\n",
       "      <td>Powerball</td>\n",
       "      <td>28905</td>\n",
       "      <td>1037.0</td>\n",
       "    </tr>\n",
       "    <tr>\n",
       "      <td>36960</td>\n",
       "      <td>2009</td>\n",
       "      <td>2008</td>\n",
       "      <td>AUGUST</td>\n",
       "      <td>Draw Game</td>\n",
       "      <td>Powerball</td>\n",
       "      <td>28906</td>\n",
       "      <td>13579.0</td>\n",
       "    </tr>\n",
       "  </tbody>\n",
       "</table>\n",
       "<p>707 rows × 7 columns</p>\n",
       "</div>"
      ],
      "text/plain": [
       "       fiscal_year  year month_name  Game_Type  Game_Name    Zip  NetSales_Amt\n",
       "36254         2009  2008     AUGUST  Draw Game  Powerball  27006       23767.0\n",
       "36255         2009  2008     AUGUST  Draw Game  Powerball  27009        2138.0\n",
       "36256         2009  2008     AUGUST  Draw Game  Powerball  27011        2140.0\n",
       "36257         2009  2008     AUGUST  Draw Game  Powerball  27012       59910.0\n",
       "36258         2009  2008     AUGUST  Draw Game  Powerball  27013        9522.0\n",
       "...            ...   ...        ...        ...        ...    ...           ...\n",
       "36956         2009  2008     AUGUST  Draw Game  Powerball  28806       71850.0\n",
       "36957         2009  2008     AUGUST  Draw Game  Powerball  28901        5491.0\n",
       "36958         2009  2008     AUGUST  Draw Game  Powerball  28904        5752.0\n",
       "36959         2009  2008     AUGUST  Draw Game  Powerball  28905        1037.0\n",
       "36960         2009  2008     AUGUST  Draw Game  Powerball  28906       13579.0\n",
       "\n",
       "[707 rows x 7 columns]"
      ]
     },
     "execution_count": 63,
     "metadata": {},
     "output_type": "execute_result"
    }
   ],
   "source": [
    "gamesales"
   ]
  },
  {
   "cell_type": "code",
   "execution_count": 64,
   "metadata": {},
   "outputs": [
    {
     "data": {
      "text/plain": [
       "714"
      ]
     },
     "execution_count": 64,
     "metadata": {},
     "output_type": "execute_result"
    }
   ],
   "source": [
    "len(zipcodes)"
   ]
  },
  {
   "cell_type": "markdown",
   "metadata": {},
   "source": [
    "## NC Voter History Questions"
   ]
  },
  {
   "cell_type": "code",
   "execution_count": null,
   "metadata": {},
   "outputs": [],
   "source": [
    "data = pd.read_csv('data0/NC/snapshots/VR_Snapshot_20190101.csv', dtype='str')"
   ]
  },
  {
   "cell_type": "code",
   "execution_count": 32,
   "metadata": {},
   "outputs": [
    {
     "data": {
      "text/html": [
       "<div>\n",
       "<style scoped>\n",
       "    .dataframe tbody tr th:only-of-type {\n",
       "        vertical-align: middle;\n",
       "    }\n",
       "\n",
       "    .dataframe tbody tr th {\n",
       "        vertical-align: top;\n",
       "    }\n",
       "\n",
       "    .dataframe thead th {\n",
       "        text-align: right;\n",
       "    }\n",
       "</style>\n",
       "<table border=\"1\" class=\"dataframe\">\n",
       "  <thead>\n",
       "    <tr style=\"text-align: right;\">\n",
       "      <th></th>\n",
       "      <th>ÿþsnapshot_dt</th>\n",
       "      <th>county_id</th>\n",
       "      <th>county_desc</th>\n",
       "      <th>voter_reg_num</th>\n",
       "      <th>ncid</th>\n",
       "      <th>status_cd</th>\n",
       "      <th>voter_status_desc</th>\n",
       "      <th>reason_cd</th>\n",
       "      <th>voter_status_reason_desc</th>\n",
       "      <th>absent_ind</th>\n",
       "      <th>...</th>\n",
       "      <th>dist_1_abbrv</th>\n",
       "      <th>dist_1_desc</th>\n",
       "      <th>dist_2_abbrv</th>\n",
       "      <th>dist_2_desc</th>\n",
       "      <th>confidential_ind</th>\n",
       "      <th>cancellation_dt</th>\n",
       "      <th>vtd_abbrv</th>\n",
       "      <th>vtd_desc</th>\n",
       "      <th>load_dt</th>\n",
       "      <th>age_group</th>\n",
       "    </tr>\n",
       "  </thead>\n",
       "  <tbody>\n",
       "    <tr>\n",
       "      <td>0</td>\n",
       "      <td>2019-01-01</td>\n",
       "      <td>1</td>\n",
       "      <td>ALAMANCE</td>\n",
       "      <td>595600</td>\n",
       "      <td>AA5763</td>\n",
       "      <td>A</td>\n",
       "      <td>ACTIVE</td>\n",
       "      <td>AV</td>\n",
       "      <td>VERIFIED</td>\n",
       "      <td></td>\n",
       "      <td>...</td>\n",
       "      <td>17</td>\n",
       "      <td>17TH PROSECUTORIAL</td>\n",
       "      <td></td>\n",
       "      <td>NaN</td>\n",
       "      <td>N</td>\n",
       "      <td>1900-01-01</td>\n",
       "      <td>064</td>\n",
       "      <td>064</td>\n",
       "      <td>2019-01-01</td>\n",
       "      <td>Age Over 66</td>\n",
       "    </tr>\n",
       "    <tr>\n",
       "      <td>1</td>\n",
       "      <td>2019-01-01</td>\n",
       "      <td>1</td>\n",
       "      <td>ALAMANCE</td>\n",
       "      <td>1200</td>\n",
       "      <td>AA2036</td>\n",
       "      <td>R</td>\n",
       "      <td>REMOVED</td>\n",
       "      <td>RL</td>\n",
       "      <td>MOVED FROM COUNTY</td>\n",
       "      <td></td>\n",
       "      <td>...</td>\n",
       "      <td></td>\n",
       "      <td>NaN</td>\n",
       "      <td></td>\n",
       "      <td>NaN</td>\n",
       "      <td>N</td>\n",
       "      <td>1900-01-01</td>\n",
       "      <td></td>\n",
       "      <td>NaN</td>\n",
       "      <td>2019-01-01</td>\n",
       "      <td>Age Over 66</td>\n",
       "    </tr>\n",
       "    <tr>\n",
       "      <td>2</td>\n",
       "      <td>2019-01-01</td>\n",
       "      <td>1</td>\n",
       "      <td>ALAMANCE</td>\n",
       "      <td>2200</td>\n",
       "      <td>AA2038</td>\n",
       "      <td>R</td>\n",
       "      <td>REMOVED</td>\n",
       "      <td>RD</td>\n",
       "      <td>DECEASED</td>\n",
       "      <td></td>\n",
       "      <td>...</td>\n",
       "      <td></td>\n",
       "      <td>NaN</td>\n",
       "      <td></td>\n",
       "      <td>NaN</td>\n",
       "      <td>N</td>\n",
       "      <td>2007-01-19</td>\n",
       "      <td></td>\n",
       "      <td>NaN</td>\n",
       "      <td>2019-01-01</td>\n",
       "      <td>Age Over 66</td>\n",
       "    </tr>\n",
       "    <tr>\n",
       "      <td>3</td>\n",
       "      <td>2019-01-01</td>\n",
       "      <td>1</td>\n",
       "      <td>ALAMANCE</td>\n",
       "      <td>4100</td>\n",
       "      <td>AA2052</td>\n",
       "      <td>A</td>\n",
       "      <td>ACTIVE</td>\n",
       "      <td>AV</td>\n",
       "      <td>VERIFIED</td>\n",
       "      <td></td>\n",
       "      <td>...</td>\n",
       "      <td>17</td>\n",
       "      <td>17TH PROSECUTORIAL</td>\n",
       "      <td></td>\n",
       "      <td>NaN</td>\n",
       "      <td>N</td>\n",
       "      <td>1900-01-01</td>\n",
       "      <td>06E</td>\n",
       "      <td>06E</td>\n",
       "      <td>2019-01-01</td>\n",
       "      <td>Age Over 66</td>\n",
       "    </tr>\n",
       "    <tr>\n",
       "      <td>4</td>\n",
       "      <td>2019-01-01</td>\n",
       "      <td>1</td>\n",
       "      <td>ALAMANCE</td>\n",
       "      <td>6400</td>\n",
       "      <td>AA2061</td>\n",
       "      <td>R</td>\n",
       "      <td>REMOVED</td>\n",
       "      <td>RD</td>\n",
       "      <td>DECEASED</td>\n",
       "      <td></td>\n",
       "      <td>...</td>\n",
       "      <td></td>\n",
       "      <td>NaN</td>\n",
       "      <td></td>\n",
       "      <td>NaN</td>\n",
       "      <td>N</td>\n",
       "      <td>2016-05-03</td>\n",
       "      <td></td>\n",
       "      <td>NaN</td>\n",
       "      <td>2019-01-01</td>\n",
       "      <td>Age Over 66</td>\n",
       "    </tr>\n",
       "  </tbody>\n",
       "</table>\n",
       "<p>5 rows × 90 columns</p>\n",
       "</div>"
      ],
      "text/plain": [
       "  ÿþsnapshot_dt  county_id county_desc  voter_reg_num    ncid status_cd  \\\n",
       "0    2019-01-01          1    ALAMANCE         595600  AA5763         A   \n",
       "1    2019-01-01          1    ALAMANCE           1200  AA2036         R   \n",
       "2    2019-01-01          1    ALAMANCE           2200  AA2038         R   \n",
       "3    2019-01-01          1    ALAMANCE           4100  AA2052         A   \n",
       "4    2019-01-01          1    ALAMANCE           6400  AA2061         R   \n",
       "\n",
       "  voter_status_desc reason_cd voter_status_reason_desc absent_ind  ...  \\\n",
       "0            ACTIVE        AV                 VERIFIED             ...   \n",
       "1           REMOVED        RL        MOVED FROM COUNTY             ...   \n",
       "2           REMOVED        RD                 DECEASED             ...   \n",
       "3            ACTIVE        AV                 VERIFIED             ...   \n",
       "4           REMOVED        RD                 DECEASED             ...   \n",
       "\n",
       "  dist_1_abbrv         dist_1_desc dist_2_abbrv dist_2_desc confidential_ind  \\\n",
       "0           17  17TH PROSECUTORIAL                      NaN                N   \n",
       "1                              NaN                      NaN                N   \n",
       "2                              NaN                      NaN                N   \n",
       "3           17  17TH PROSECUTORIAL                      NaN                N   \n",
       "4                              NaN                      NaN                N   \n",
       "\n",
       "   cancellation_dt vtd_abbrv vtd_desc     load_dt    age_group  \n",
       "0       1900-01-01       064      064  2019-01-01  Age Over 66  \n",
       "1       1900-01-01                NaN  2019-01-01  Age Over 66  \n",
       "2       2007-01-19                NaN  2019-01-01  Age Over 66  \n",
       "3       1900-01-01       06E      06E  2019-01-01  Age Over 66  \n",
       "4       2016-05-03                NaN  2019-01-01  Age Over 66  \n",
       "\n",
       "[5 rows x 90 columns]"
      ]
     },
     "execution_count": 32,
     "metadata": {},
     "output_type": "execute_result"
    }
   ],
   "source": [
    "data.head()"
   ]
  },
  {
   "cell_type": "code",
   "execution_count": 31,
   "metadata": {},
   "outputs": [],
   "source": [
    "data8 = pd.read_csv('data0/NC/snapshots/VR_Snapshot_20081104.csv', dtype='str')"
   ]
  },
  {
   "cell_type": "code",
   "execution_count": 40,
   "metadata": {},
   "outputs": [
    {
     "data": {
      "text/html": [
       "<div>\n",
       "<style scoped>\n",
       "    .dataframe tbody tr th:only-of-type {\n",
       "        vertical-align: middle;\n",
       "    }\n",
       "\n",
       "    .dataframe tbody tr th {\n",
       "        vertical-align: top;\n",
       "    }\n",
       "\n",
       "    .dataframe thead th {\n",
       "        text-align: right;\n",
       "    }\n",
       "</style>\n",
       "<table border=\"1\" class=\"dataframe\">\n",
       "  <thead>\n",
       "    <tr style=\"text-align: right;\">\n",
       "      <th></th>\n",
       "      <th>snapshot_dt</th>\n",
       "      <th>county_id</th>\n",
       "      <th>county_desc</th>\n",
       "      <th>voter_reg_num</th>\n",
       "      <th>ncid</th>\n",
       "      <th>status_cd</th>\n",
       "      <th>voter_status_desc</th>\n",
       "      <th>reason_cd</th>\n",
       "      <th>voter_status_reason_desc</th>\n",
       "      <th>absent_ind</th>\n",
       "      <th>...</th>\n",
       "      <th>dist_2_desc</th>\n",
       "      <th>confidential_ind</th>\n",
       "      <th>cancellation_dt</th>\n",
       "      <th>vtd_abbrv</th>\n",
       "      <th>vtd_desc</th>\n",
       "      <th>load_dt</th>\n",
       "      <th>age_group</th>\n",
       "      <th>v91</th>\n",
       "      <th>v92</th>\n",
       "      <th>v93</th>\n",
       "    </tr>\n",
       "  </thead>\n",
       "  <tbody>\n",
       "    <tr>\n",
       "      <td>0</td>\n",
       "      <td>2008-11-04 00:00:00</td>\n",
       "      <td>18</td>\n",
       "      <td>CATAWBA</td>\n",
       "      <td>0</td>\n",
       "      <td>AW2035</td>\n",
       "      <td>R</td>\n",
       "      <td>REMOVED</td>\n",
       "      <td>RL</td>\n",
       "      <td>MOVED FROM COUNTY</td>\n",
       "      <td>N</td>\n",
       "      <td>...</td>\n",
       "      <td>NaN</td>\n",
       "      <td>N</td>\n",
       "      <td>NaN</td>\n",
       "      <td></td>\n",
       "      <td>NaN</td>\n",
       "      <td>2010-01-22 15:46:57.133000000</td>\n",
       "      <td>41 TO 65</td>\n",
       "      <td>NaN</td>\n",
       "      <td>NaN</td>\n",
       "      <td>NaN</td>\n",
       "    </tr>\n",
       "    <tr>\n",
       "      <td>1</td>\n",
       "      <td>2008-11-04 00:00:00</td>\n",
       "      <td>7</td>\n",
       "      <td>BEAUFORT</td>\n",
       "      <td>0</td>\n",
       "      <td>AG2035</td>\n",
       "      <td>R</td>\n",
       "      <td>REMOVED</td>\n",
       "      <td>R2</td>\n",
       "      <td>DUPLICATE</td>\n",
       "      <td>N</td>\n",
       "      <td>...</td>\n",
       "      <td>NaN</td>\n",
       "      <td>N</td>\n",
       "      <td>2001-07-06 00:00:00</td>\n",
       "      <td></td>\n",
       "      <td>NaN</td>\n",
       "      <td>2010-01-22 15:46:57.133000000</td>\n",
       "      <td>26 TO 40</td>\n",
       "      <td>NaN</td>\n",
       "      <td>NaN</td>\n",
       "      <td>NaN</td>\n",
       "    </tr>\n",
       "    <tr>\n",
       "      <td>2</td>\n",
       "      <td>2008-11-04 00:00:00</td>\n",
       "      <td>10</td>\n",
       "      <td>BRUNSWICK</td>\n",
       "      <td>0</td>\n",
       "      <td>AK2035</td>\n",
       "      <td>R</td>\n",
       "      <td>REMOVED</td>\n",
       "      <td>R2</td>\n",
       "      <td>DUPLICATE</td>\n",
       "      <td>N</td>\n",
       "      <td>...</td>\n",
       "      <td>NaN</td>\n",
       "      <td>N</td>\n",
       "      <td>2001-02-05 00:00:00</td>\n",
       "      <td></td>\n",
       "      <td>NaN</td>\n",
       "      <td>2010-01-22 15:46:57.133000000</td>\n",
       "      <td>66 AND ABOVE</td>\n",
       "      <td>NaN</td>\n",
       "      <td>NaN</td>\n",
       "      <td>NaN</td>\n",
       "    </tr>\n",
       "    <tr>\n",
       "      <td>3</td>\n",
       "      <td>2008-11-04 00:00:00</td>\n",
       "      <td>16</td>\n",
       "      <td>CARTERET</td>\n",
       "      <td>0</td>\n",
       "      <td>AS2035</td>\n",
       "      <td>R</td>\n",
       "      <td>REMOVED</td>\n",
       "      <td>RP</td>\n",
       "      <td>REMOVED UNDER OLD PURGE LAW</td>\n",
       "      <td>N</td>\n",
       "      <td>...</td>\n",
       "      <td>NaN</td>\n",
       "      <td>N</td>\n",
       "      <td>NaN</td>\n",
       "      <td></td>\n",
       "      <td>NaN</td>\n",
       "      <td>2010-01-22 15:46:57.133000000</td>\n",
       "      <td>41 TO 65</td>\n",
       "      <td>NaN</td>\n",
       "      <td>NaN</td>\n",
       "      <td>NaN</td>\n",
       "    </tr>\n",
       "    <tr>\n",
       "      <td>4</td>\n",
       "      <td>2008-11-04 00:00:00</td>\n",
       "      <td>58</td>\n",
       "      <td>MARTIN</td>\n",
       "      <td>0</td>\n",
       "      <td>CS2035</td>\n",
       "      <td>R</td>\n",
       "      <td>REMOVED</td>\n",
       "      <td>R2</td>\n",
       "      <td>DUPLICATE</td>\n",
       "      <td>N</td>\n",
       "      <td>...</td>\n",
       "      <td>NaN</td>\n",
       "      <td>N</td>\n",
       "      <td>2001-03-15 00:00:00</td>\n",
       "      <td></td>\n",
       "      <td>NaN</td>\n",
       "      <td>2010-01-22 15:46:57.133000000</td>\n",
       "      <td>66 AND ABOVE</td>\n",
       "      <td>NaN</td>\n",
       "      <td>NaN</td>\n",
       "      <td>NaN</td>\n",
       "    </tr>\n",
       "  </tbody>\n",
       "</table>\n",
       "<p>5 rows × 93 columns</p>\n",
       "</div>"
      ],
      "text/plain": [
       "           snapshot_dt county_id county_desc voter_reg_num    ncid status_cd  \\\n",
       "0  2008-11-04 00:00:00        18     CATAWBA             0  AW2035        R    \n",
       "1  2008-11-04 00:00:00         7    BEAUFORT             0  AG2035        R    \n",
       "2  2008-11-04 00:00:00        10   BRUNSWICK             0  AK2035        R    \n",
       "3  2008-11-04 00:00:00        16    CARTERET             0  AS2035        R    \n",
       "4  2008-11-04 00:00:00        58      MARTIN             0  CS2035        R    \n",
       "\n",
       "  voter_status_desc reason_cd     voter_status_reason_desc absent_ind  ...  \\\n",
       "0           REMOVED        RL            MOVED FROM COUNTY          N  ...   \n",
       "1           REMOVED        R2                    DUPLICATE          N  ...   \n",
       "2           REMOVED        R2                    DUPLICATE          N  ...   \n",
       "3           REMOVED        RP  REMOVED UNDER OLD PURGE LAW          N  ...   \n",
       "4           REMOVED        R2                    DUPLICATE          N  ...   \n",
       "\n",
       "  dist_2_desc confidential_ind      cancellation_dt vtd_abbrv vtd_desc  \\\n",
       "0         NaN                N                  NaN                NaN   \n",
       "1         NaN                N  2001-07-06 00:00:00                NaN   \n",
       "2         NaN                N  2001-02-05 00:00:00                NaN   \n",
       "3         NaN                N                  NaN                NaN   \n",
       "4         NaN                N  2001-03-15 00:00:00                NaN   \n",
       "\n",
       "                         load_dt     age_group  v91  v92  v93  \n",
       "0  2010-01-22 15:46:57.133000000      41 TO 65  NaN  NaN  NaN  \n",
       "1  2010-01-22 15:46:57.133000000      26 TO 40  NaN  NaN  NaN  \n",
       "2  2010-01-22 15:46:57.133000000  66 AND ABOVE  NaN  NaN  NaN  \n",
       "3  2010-01-22 15:46:57.133000000      41 TO 65  NaN  NaN  NaN  \n",
       "4  2010-01-22 15:46:57.133000000  66 AND ABOVE  NaN  NaN  NaN  \n",
       "\n",
       "[5 rows x 93 columns]"
      ]
     },
     "execution_count": 40,
     "metadata": {},
     "output_type": "execute_result"
    }
   ],
   "source": [
    "data8.head()"
   ]
  },
  {
   "cell_type": "code",
   "execution_count": 38,
   "metadata": {},
   "outputs": [],
   "source": [
    "data.loc[:,'cancel_year'] = [str(x).split('-')[0] for x in data.cancellation_dt]"
   ]
  },
  {
   "cell_type": "code",
   "execution_count": 41,
   "metadata": {},
   "outputs": [],
   "source": [
    "data8.loc[:,'cancel_year'] = [str(x).split('-')[0] for x in data8.cancellation_dt]"
   ]
  },
  {
   "cell_type": "code",
   "execution_count": 3,
   "metadata": {},
   "outputs": [],
   "source": [
    "state = 'NC'\n",
    "year = 2019\n",
    "filepath0 = 'data0/'+state+'/'+state+'_'+str(year)+'/'\n",
    "file = 'ncvhis_Statewide.txt'\n",
    "nchist = pd.read_csv(filepath0+file, dtype='str', quoting=3, delimiter='\\t')"
   ]
  },
  {
   "cell_type": "code",
   "execution_count": 9,
   "metadata": {},
   "outputs": [
    {
     "name": "stdout",
     "output_type": "stream",
     "text": [
      "county_id\n",
      "county_desc\n",
      "voter_reg_num\n",
      "election_lbl\n",
      "election_desc\n",
      "voting_method\n",
      "voted_party_cd\n",
      "voted_party_desc\n",
      "pct_label\n",
      "pct_description\n",
      "ncid\n",
      "voted_county_id\n",
      "voted_county_desc\n",
      "vtd_label\n",
      "vtd_description\n"
     ]
    }
   ],
   "source": [
    "nchist = nchist.rename(columns={col:col.strip('\"\"') for col in nchist.columns.values})\n",
    "for col in nchist.columns.values:\n",
    "    nchist.loc[:,col] = [str(x).strip('\"\"') for x in nchist[col]]\n",
    "    print(col)"
   ]
  },
  {
   "cell_type": "markdown",
   "metadata": {},
   "source": [
    "#### How many voters in 2008 don't appear in the history?"
   ]
  },
  {
   "cell_type": "code",
   "execution_count": 49,
   "metadata": {},
   "outputs": [
    {
     "data": {
      "text/plain": [
       "252050"
      ]
     },
     "execution_count": 49,
     "metadata": {},
     "output_type": "execute_result"
    }
   ],
   "source": [
    "notcurent = nchist[~nchist.ncid.isin(data8.ncid.unique())]\n",
    "len(notcurent.ncid.unique())"
   ]
  },
  {
   "cell_type": "code",
   "execution_count": 50,
   "metadata": {},
   "outputs": [
    {
     "name": "stdout",
     "output_type": "stream",
     "text": [
      "Out of 9360067\n"
     ]
    }
   ],
   "source": [
    "print('Out of', len(data8.ncid.unique()))"
   ]
  },
  {
   "cell_type": "code",
   "execution_count": 48,
   "metadata": {},
   "outputs": [],
   "source": [
    "# These are both the voters who didn't vote and those who voted and are no longer voters"
   ]
  },
  {
   "cell_type": "code",
   "execution_count": null,
   "metadata": {},
   "outputs": [],
   "source": [
    "# What we would worry about are the voters who participate in 2008 but are removed due to inactivity"
   ]
  },
  {
   "cell_type": "code",
   "execution_count": 51,
   "metadata": {},
   "outputs": [
    {
     "data": {
      "text/plain": [
       "0.02692822604795457"
      ]
     },
     "execution_count": 51,
     "metadata": {},
     "output_type": "execute_result"
    }
   ],
   "source": [
    "252050/9360067"
   ]
  },
  {
   "cell_type": "markdown",
   "metadata": {},
   "source": [
    "#### How many voters who voted in 2008 don't appear in the current snapshot?"
   ]
  },
  {
   "cell_type": "code",
   "execution_count": 46,
   "metadata": {},
   "outputs": [],
   "source": [
    "x = nchist.election_desc[0]"
   ]
  },
  {
   "cell_type": "code",
   "execution_count": 47,
   "metadata": {},
   "outputs": [
    {
     "data": {
      "text/plain": [
       "322"
      ]
     },
     "execution_count": 47,
     "metadata": {},
     "output_type": "execute_result"
    }
   ],
   "source": [
    "datanot8 = nchist[(nchist.election_desc == x) & (~nchist.ncid.isin(data.ncid.unique()))]\n",
    "len(datanot8)"
   ]
  },
  {
   "cell_type": "code",
   "execution_count": null,
   "metadata": {},
   "outputs": [],
   "source": [
    "# These are the voters who left the dataset recently."
   ]
  }
 ],
 "metadata": {
  "kernelspec": {
   "display_name": "Python 3",
   "language": "python",
   "name": "python3"
  },
  "language_info": {
   "codemirror_mode": {
    "name": "ipython",
    "version": 3
   },
   "file_extension": ".py",
   "mimetype": "text/x-python",
   "name": "python",
   "nbconvert_exporter": "python",
   "pygments_lexer": "ipython3",
   "version": "3.8.8"
  }
 },
 "nbformat": 4,
 "nbformat_minor": 4
}
