{
 "cells": [
  {
   "cell_type": "markdown",
   "id": "77887fc8-a4d7-4b91-b60f-c48910be463d",
   "metadata": {},
   "source": [
    "## Transcript Outline\n",
    "\n",
    "1. There's a mathematical paradox, about doubling, which we can apply to Roulette\n",
    "2. Here's how it goes\n",
    "3. This really works, but there's a problem: we typically don't have enough money\n",
    "4. Lets do a simulation, and see what the range of outcomes look like\n",
    "5. But there's another idea in economics, about spreading risk\n",
    "6. What happens if instead of putting money on one, we put money on all, and perform the same operation on each.\n",
    "7. Here's some math about how this might go.\n",
    "8. Here's a simulation."
   ]
  },
  {
   "cell_type": "markdown",
   "id": "96a7e4af-e5f2-4af0-b679-a68ecc3ffae4",
   "metadata": {},
   "source": []
  },
  {
   "cell_type": "markdown",
   "id": "12afceba-438b-463f-b410-0ecef193c647",
   "metadata": {},
   "source": []
  },
  {
   "cell_type": "markdown",
   "id": "c16fcbe0-e913-4b5b-9383-204bbca5185b",
   "metadata": {},
   "source": []
  },
  {
   "cell_type": "markdown",
   "id": "d8e2d89e-4ec7-4686-86b8-67ef3b64b114",
   "metadata": {},
   "source": []
  }
 ],
 "metadata": {
  "kernelspec": {
   "display_name": "Python 3 (ipykernel)",
   "language": "python",
   "name": "python3"
  },
  "language_info": {
   "codemirror_mode": {
    "name": "ipython",
    "version": 3
   },
   "file_extension": ".py",
   "mimetype": "text/x-python",
   "name": "python",
   "nbconvert_exporter": "python",
   "pygments_lexer": "ipython3",
   "version": "3.8.8"
  }
 },
 "nbformat": 4,
 "nbformat_minor": 5
}
